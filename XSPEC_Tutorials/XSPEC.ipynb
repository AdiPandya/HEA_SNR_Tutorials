{
 "cells": [
  {
   "cell_type": "markdown",
   "metadata": {},
   "source": [
    "# XSPEC Tutorial"
   ]
  },
  {
   "cell_type": "markdown",
   "metadata": {},
   "source": [
    "XSPEC is part of the NASA HEASoft software suit. It is a command driven, interactive, X-ray spectral fitting program with lots of models pre defined.\n",
    "https://heasarc.gsfc.nasa.gov/docs/xanadu/xspec/manual/index.html"
   ]
  },
  {
   "cell_type": "markdown",
   "metadata": {},
   "source": [
    "## Starting XSPEC & loading data\n",
    "\n",
    "1. Start XSPEC using the command `xspec` in the terminal. This opens XSPEC environment where one can provide data files, perform spectrum fitting.\n",
    "2. Load the data about spectrum using `data <file_name>`. It supports .fits as well as .grp files. If the ARF and RMF files are present in the same directory, XSPEC will automatically load them.\n",
    "\n",
    "    <div class=\"alert alert-block alert-info\">\n",
    "    <b>Data types:</b>\n",
    "    <br> The four main types of data used for spectral fitting are:\n",
    "    <br> * Source spectrum: The spectrum of the source that we want to fit.\n",
    "    <br>* Background spectrum: The spectrum of the background that we want fit for accounting the background in the source spectrum. Needs to be loaded using \"backgrnd file_name\".\n",
    "    <br>* ARF (Ancillary Response Files) Response matrix: This file indicates the effective area of the telescope as a function of energy.\n",
    "    <br>* RMF Response matrix (Response Matrix Files): This file links the instrumental channel scale to the energy scale.\n",
    "    </div>\n",
    "\n",
    "3. Once the data is loaded and if the ARF and RMF files are present in the same directory, XSPEC will display the data loaded and the number of channels in the data as shown below.\n",
    "\n",
    "    ```bash\n",
    "    XSPEC12>data em01_crab_Spe_820_SourceSpec_00001.fits\n",
    "                                                                                                                                                                                                \n",
    "    Spectrum #: 1 replaced                                                                                                                                                                       \n",
    "                                                                                                                                                                                                \n",
    "    1 spectrum  in use                                                                                                                                                                           \n",
    "                                                                                                                                                                                                \n",
    "    Spectral Data File: em01_crab_Spe_820_SourceSpec_00001.fits  Spectrum 1                                                                                                                      \n",
    "    Net count rate (cts/s) for Spectrum:1  7.319e+02 +/-  2.718e+00                                                                                                                               \n",
    "    Assigned to Data Group 1 and Plot Group 1                                                                                                                                                   \n",
    "    Noticed Channels:  1-1024                                                                                                                                                                  \n",
    "    Telescope: eROSITA Instrument: MERGED  Channel Type: PI                                                                                                                                    \n",
    "    Exposure Time: 99.09 sec                                                                                                                                                                   \n",
    "    Using fit statistic: chi                                                                                                                                                                    \n",
    "    Using Response (RMF) File            em01_crab_Spe_820_RMF_00001.fits for Source 1                                                                                                          \n",
    "    Using Auxiliary Response (ARF) File  em01_crab_Spe_820_ARF_00001.fits   \n",
    "    ```\n",
    "\n",
    "4. One can rebin the data using the command \n",
    "    ```bash \n",
    "    setplot rebin <min significance> <max bins>\n",
    "    ```\n",
    "    This is useful when the data has too many channels and the fitting is taking too long. Alternatively, one can use the heasoft tool `ftgrouppha` to group the data into a specified number of channels. To use this tool, run the command \n",
    "    ```bash\n",
    "    ftgrouppha infile=<input_file> outfile=<output_file_as_.grp> grouptype=opt respfile=<RMF_file> \n",
    "    ```\n",
    "\n",
    "5. To ignore the channels with energy range, use the command \n",
    "    ```bash\n",
    "    ignore <min_energy>-<max_energy>\n",
    "    ```\n",
    "    For example, to keep the channels between 0.3-7 keV, use the command \n",
    "    ```bash\n",
    "    ignore **-0.3 7-**\n",
    "    ```\n",
    "\n",
    "6. To load multiple data files, use the command \n",
    "    ```bash\n",
    "    data 1:1 <file1> 2:2 <file2> 3:3 <file3> \n",
    "    ```\n",
    "    To ignore a particular energy range in all files, use the command \n",
    "    ```bash\n",
    "    ignore 1-3: **-0.3 7-**\n",
    "    ```"
   ]
  },
  {
   "cell_type": "markdown",
   "metadata": {},
   "source": [
    "## Plotting the data\n",
    "1. First step to plot the data is to initialize the plotting window using the command \n",
    "    ```bash\n",
    "    cpd <device_name>\n",
    "    ```\n",
    "    The device name can be `/xw` for X-window, `/ps` for postscript file, `/png` for png file, etc.\n",
    "\n",
    "2. To plot the data, use the command \n",
    "    ```bash\n",
    "    plot data\n",
    "    ```\n",
    "    The command `plot data` plots the data as it is, while `plot ldata` plots the log of the data. This plot consists `channels` on x-axis and `counts` on y-axis.\n",
    "\n",
    "3. To plot energy [kev] on x-axis and [counts /s /keV] on y-axis, use the command \n",
    "    ```bash\n",
    "    setplot energy\n",
    "    plot ldata\n",
    "    ```\n",
    "    This plot consists `energy` on x-axis and `flux` on y-axis.\n",
    "\n",
    "4. To plot the background data, use the command \n",
    "    ```bash\n",
    "    setplot background\n",
    "    plot ldata\n",
    "    ```\n",
    "    To rescale y-axis, use the command `set command r y` and to remove the background plot, use the command `setplot noback`.\n",
    "\n",
    "Once this is done, the file should look like this:\n",
    "\n",
    "<img src=\"Images/2_Energy_BG.png\" alt=\"plot\" style=\"width:40%;\">\n"
   ]
  },
  {
   "cell_type": "markdown",
   "metadata": {},
   "source": [
    "## Choosing the model and fitting the data"
   ]
  }
 ],
 "metadata": {
  "kernelspec": {
   "display_name": "heasoft_6.31",
   "language": "python",
   "name": "python3"
  },
  "language_info": {
   "codemirror_mode": {
    "name": "ipython",
    "version": 3
   },
   "file_extension": ".py",
   "mimetype": "text/x-python",
   "name": "python",
   "nbconvert_exporter": "python",
   "pygments_lexer": "ipython3",
   "version": "3.10.4"
  }
 },
 "nbformat": 4,
 "nbformat_minor": 2
}
