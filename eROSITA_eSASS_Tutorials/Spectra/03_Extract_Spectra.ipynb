{
 "cells": [
  {
   "cell_type": "markdown",
   "metadata": {},
   "source": [
    "# Spectral Extraction Tutorials"
   ]
  },
  {
   "cell_type": "code",
   "execution_count": 21,
   "metadata": {},
   "outputs": [],
   "source": [
    "import os\n",
    "import subprocess\n",
    "import numpy as np\n",
    "import matplotlib.pyplot as plt\n",
    "from astropy import units as u\n",
    "from astropy.table import Table\n",
    "from astropy.io import fits\n",
    "from astropy.coordinates import SkyCoord\n",
    "import shutil\n",
    "import warnings\n",
    "warnings.filterwarnings(\"ignore\")"
   ]
  },
  {
   "cell_type": "code",
   "execution_count": 2,
   "metadata": {},
   "outputs": [],
   "source": [
    "cat = Table.read('../Data/eROSITA_Catalogues.fit')"
   ]
  },
  {
   "cell_type": "code",
   "execution_count": 3,
   "metadata": {},
   "outputs": [],
   "source": [
    "is_spurious = cat['FLAG_SP_SNR'].astype(bool)\n",
    "cat = cat[~is_spurious]\n",
    "\n",
    "cat_coord = SkyCoord(cat['RA'], cat['DEC'], unit='deg')\n",
    "\n",
    "coord_obj = SkyCoord(83.63240, 22.01740, unit='deg')\n",
    "\n",
    "distance = cat_coord.separation(coord_obj)"
   ]
  },
  {
   "cell_type": "code",
   "execution_count": 4,
   "metadata": {},
   "outputs": [],
   "source": [
    "Image_file = '../Data/Images/merged_exp_corr_200_2300.fits'"
   ]
  },
  {
   "cell_type": "code",
   "execution_count": 5,
   "metadata": {},
   "outputs": [
    {
     "data": {
      "text/plain": [
       "<SkyCoord (ICRS): (ra, dec) in deg\n",
       "    [(85.55021296, 20.20636293), (81.66400501, 23.80665032)]>"
      ]
     },
     "execution_count": 5,
     "metadata": {},
     "output_type": "execute_result"
    }
   ],
   "source": [
    "from astropy.wcs import WCS\n",
    "\n",
    "# Read the image file header\n",
    "with fits.open(Image_file) as hdul:\n",
    "    header = hdul[0].header\n",
    "\n",
    "# Extract the WCS information from the header\n",
    "wcs = WCS(header)\n",
    "\n",
    "# Calculate the extent of the image\n",
    "naxis1 = header['NAXIS1']\n",
    "naxis2 = header['NAXIS2']\n",
    "ra_min, dec_min = wcs.wcs_pix2world([[0, 0]], 0)[0]\n",
    "ra_max, dec_max = wcs.wcs_pix2world([[naxis1, naxis2]], 0)[0]\n",
    "\n",
    "# Define the extent of the image\n",
    "extent = SkyCoord([ra_min, ra_max], [dec_min, dec_max], unit='deg')\n",
    "extent"
   ]
  },
  {
   "cell_type": "code",
   "execution_count": 6,
   "metadata": {},
   "outputs": [],
   "source": [
    "# Apply cuts on the catalog using ra_min, ra_max, dec_min, dec_max\n",
    "cat_cut = cat[(cat['RA'] >= ra_max) & (cat['RA'] <= ra_min) & \n",
    "              (cat['DEC'] >= dec_min) & (cat['DEC'] <= dec_max)]\n",
    "\n",
    "with open('../Data/Spectrum/cat_deg.reg', 'w') as f:\n",
    "    # f.write('fk5\\n')\n",
    "    for row in cat_cut:\n",
    "        f.write(f'circle({row[\"RA\"]},{row[\"DEC\"]},50\") # color=red\\n')"
   ]
  },
  {
   "cell_type": "code",
   "execution_count": 7,
   "metadata": {},
   "outputs": [],
   "source": [
    "cat_src = cat[distance < 500/3600 * u.deg]\n",
    "\n",
    "with open('../Data/Spectrum/src_deg.reg', 'w') as f:\n",
    "    # f.write('fk5\\n')\n",
    "    f.write(f'circle({coord_obj.ra.deg},{coord_obj.dec.deg},500\") # color=white\\n')\n",
    "    for row in cat_src:\n",
    "        f.write(f'-circle({row[\"RA\"]},{row[\"DEC\"]},50\") # color=red\\n')"
   ]
  },
  {
   "cell_type": "code",
   "execution_count": 8,
   "metadata": {},
   "outputs": [],
   "source": [
    "cat_bg = cat[(distance >= 1000/3600 * u.deg) & (distance < 2500/3600 * u.deg)]\n",
    "\n",
    "with open('../Data/Spectrum/bg_deg.reg', 'w') as f:\n",
    "    # f.write('fk5\\n')\n",
    "    f.write(f'annulus({coord_obj.ra.deg},{coord_obj.dec.deg},1000\", 2500\") # color=green\\n')\n",
    "    for row in cat_bg:\n",
    "        f.write(f'-circle({row[\"RA\"]},{row[\"DEC\"]},50\") # color=red\\n')"
   ]
  },
  {
   "cell_type": "markdown",
   "metadata": {},
   "source": [
    "## Generate spectra, ARFs, and RMFs"
   ]
  },
  {
   "cell_type": "code",
   "execution_count": 9,
   "metadata": {},
   "outputs": [],
   "source": [
    "def run_srctool(eventfiles, srccoord, prefix, srcreg, extpars=2000, backreg=None, tstep=0.5, xgrid=1, log_file=None):\n",
    "    subprocess.run(['srctool',\n",
    "                    f'eventfiles={eventfiles}',\n",
    "                    f'srccoord={srccoord}',\n",
    "                    f'prefix={prefix}',\n",
    "                    'todo=SPEC ARF RMF',\n",
    "                    'insts=1 2 3 4 6',  # read from TM12346 only\n",
    "                    'writeinsts=8',  # write spectra of individual TMs as well as TM8\n",
    "                    f'srcreg={srcreg}',\n",
    "                    f'suffix=_ts{tstep}_xg{xgrid}.fits',\n",
    "                    f'backreg={backreg}',  # we don't need a spectrum from a background region as we are interested in the astrophysical background ourselves, not sources on top of the background\n",
    "                    'exttype=TOPHAT',  # assume the source is uniformly bright to estimate the effective area\n",
    "                    f'extpars={extpars}',  # approximate diameter of the tophat circle that will cover the full spectral extraction region (in arcsec)\n",
    "                    f'tstep={tstep}',  # time step for the light curve\n",
    "                    f'xgrid={xgrid}',  # these numbers are the trade-off between accuracy and time.\n",
    "                    'psftype=NONE',  # do not correct for psf\n",
    "                    'pat_sel=15',  # all valid patterns\n",
    "                    'clobber=yes'\n",
    "                    ],\n",
    "                   stdout=log_file,\n",
    "                   stderr=log_file)"
   ]
  },
  {
   "cell_type": "code",
   "execution_count": 10,
   "metadata": {},
   "outputs": [
    {
     "name": "stdout",
     "output_type": "stream",
     "text": [
      "srctool tasks completed successfully\n"
     ]
    }
   ],
   "source": [
    "with open('../Data/Spectrum/Spec_SRC_log.txt', 'w+') as log_file:\n",
    "\n",
    "    run_srctool('../Data/Filtered_data/Merged/Merged_020_s05_TM0_Events.fits', \n",
    "                'icrs; 83.63240,+22.01740',\n",
    "                '../Data/Spectrum/Spec_Src_', \n",
    "                '../Data/Spectrum/src_deg.reg', \n",
    "                # '../Data/Spectrum/bg_deg.reg', \n",
    "                log_file=log_file)\n",
    "    \n",
    "    log_file.seek(0)\n",
    "    log_content = log_file.readlines()\n",
    "    srctool_count = sum(1 for line in log_content if 'srctool: DONE' in line)\n",
    "    if srctool_count == 1:\n",
    "        print('srctool tasks completed successfully')"
   ]
  },
  {
   "cell_type": "code",
   "execution_count": 20,
   "metadata": {},
   "outputs": [
    {
     "name": "stdout",
     "output_type": "stream",
     "text": [
      "srctool tasks completed successfully\n"
     ]
    }
   ],
   "source": [
    "with open('../Data/Spectrum/Spec_BG_log.txt', 'w+') as log_file:\n",
    "\n",
    "    run_srctool('../Data/Filtered_data/Merged/Merged_020_s05_TM0_Events.fits', \n",
    "                'icrs; 83.63240,+22.01740',\n",
    "                '../Data/Spectrum/Spec_BG_', \n",
    "                # '../Data/Spectrum/src_deg.reg', \n",
    "                '../Data/Spectrum/bg_deg.reg', \n",
    "                tstep=2,\n",
    "                xgrid=2,\n",
    "                log_file=log_file)\n",
    "    \n",
    "    log_file.seek(0)\n",
    "    log_content = log_file.readlines()\n",
    "    srctool_count = sum(1 for line in log_content if 'srctool: DONE' in line)\n",
    "    if srctool_count == 1:\n",
    "        print('srctool tasks completed successfully')"
   ]
  },
  {
   "cell_type": "code",
   "execution_count": 21,
   "metadata": {},
   "outputs": [
    {
     "name": "stdout",
     "output_type": "stream",
     "text": [
      "srctool tasks completed successfully\n"
     ]
    }
   ],
   "source": [
    "with open('../Data/Spectrum/SRC_and_BG/Spec_SRC_BG_log.txt', 'w+') as log_file:\n",
    "\n",
    "    run_srctool('../Data/Filtered_data/Merged/Merged_020_s05_TM0_Events.fits', \n",
    "                'icrs; 83.63240,+22.01740',\n",
    "                '../Data/Spectrum/SRC_and_BG/Spec_SRC_', \n",
    "                '../Data/Spectrum/src_deg.reg', \n",
    "                '../Data/Spectrum/bg_deg.reg', \n",
    "                tstep=0.5,\n",
    "                xgrid=1,\n",
    "                log_file=log_file)\n",
    "    \n",
    "    log_file.seek(0)\n",
    "    log_content = log_file.readlines()\n",
    "    srctool_count = sum(1 for line in log_content if 'srctool: DONE' in line)\n",
    "    if srctool_count == 1:\n",
    "        print('srctool tasks completed successfully')"
   ]
  },
  {
   "cell_type": "markdown",
   "metadata": {},
   "source": [
    "### Group the spectra"
   ]
  },
  {
   "cell_type": "code",
   "execution_count": 16,
   "metadata": {},
   "outputs": [],
   "source": [
    "def run_ftgrouppha(directory, infile, respfile):\n",
    "    outfile = infile.replace('.fits', '.grp')\n",
    "    subprocess.run([\"ftgrouppha\",\n",
    "                    f\"infile={directory}{infile}\",\n",
    "                    f\"outfile={directory}{outfile}\",\n",
    "                    \"grouptype=opt\",\n",
    "                    f\"respfile={directory}{respfile}\"])"
   ]
  },
  {
   "cell_type": "code",
   "execution_count": 18,
   "metadata": {},
   "outputs": [],
   "source": [
    "run_ftgrouppha('../Data/Spectrum/SRC_and_BG/', \n",
    "               'Spec_SRC_820_SourceSpec_00001_ts0.5_xg1.fits', \n",
    "               'Spec_SRC_820_RMF_00001_ts0.5_xg1.fits')"
   ]
  },
  {
   "cell_type": "markdown",
   "metadata": {},
   "source": [
    "### Corrections"
   ]
  },
  {
   "cell_type": "code",
   "execution_count": 22,
   "metadata": {},
   "outputs": [],
   "source": [
    "exposure_src = fits.getval(\"../Data/Spectrum/Spec_Src_820_SourceSpec_00001_ts0.5_xg1.fits\", \n",
    "                           \"exposure\", ext=1)\n",
    "exposure_bkg = fits.getval(\"../Data/Spectrum/Spec_BG_820_SourceSpec_00001_ts2_xg2.fits\", \n",
    "                           \"exposure\", ext=1)\n",
    "backscal_src = fits.getval(\"../Data/Spectrum/Spec_Src_820_SourceSpec_00001_ts0.5_xg1.fits\", \n",
    "                           \"backscal\", ext=1)\n",
    "backscal_bkg = fits.getval(\"../Data/Spectrum/Spec_BG_820_SourceSpec_00001_ts2_xg2.fits\", \n",
    "                           \"backscal\", ext=1)\n",
    "regarea_src = fits.getval(\"../Data/Spectrum/Spec_Src_820_SourceSpec_00001_ts0.5_xg1.fits\", \n",
    "                          \"regarea\", ext=1)\n",
    "regarea_bkg = fits.getval(\"../Data/Spectrum/Spec_BG_820_SourceSpec_00001_ts2_xg2.fits\", \n",
    "                          \"regarea\", ext=1)\n",
    "arfmax_src = fits.getdata(\"../Data/Spectrum/Spec_Src_820_ARF_00001_ts0.5_xg1.fits\", \n",
    "                          ext=1)[\"SPECRESP\"].max()\n",
    "arfmax_bkg = fits.getdata(\"../Data/Spectrum/Spec_BG_820_ARF_00001_ts2_xg2.fits\", \n",
    "                          ext=1)[\"SPECRESP\"].max()\n",
    "\n",
    "r_src = regarea_src / backscal_src\n",
    "r_bkg = regarea_bkg / backscal_bkg\n",
    "\n",
    "\n",
    "# copy files and modify values\n",
    "shutil.copy(\"../Data/Spectrum/Spec_Src_820_SourceSpec_00001_ts0.5_xg1.fits\",\n",
    "            \"../Data/Spectrum/Spec_Src_820_SourceSpec_00001_ts0.5_xg1_corr.fits\")\n",
    "fits.setval(\"../Data/Spectrum/Spec_Src_820_SourceSpec_00001_ts0.5_xg1_corr.fits\",\n",
    "            \"exposure\", value=exposure_src / r_src, ext=1)\n",
    "shutil.copy(\"../Data/Spectrum/Spec_BG_820_SourceSpec_00001_ts2_xg2.fits\",\n",
    "            \"../Data/Spectrum/Spec_BG_820_SourceSpec_00001_ts2_xg2_corr.fits\")\n",
    "fits.setval(\"../Data/Spectrum/Spec_BG_820_SourceSpec_00001_ts2_xg2_corr.fits\",\n",
    "            \"exposure\", value=exposure_bkg / r_bkg * (regarea_bkg / regarea_src) , ext=1)\n",
    "\n",
    "shutil.copy(\"../Data/Spectrum/Spec_Src_820_ARF_00001_ts0.5_xg1.fits\",\n",
    "            \"../Data/Spectrum/Spec_Src_820_ARF_00001_ts0.5_xg1_corr.fits\",)\n",
    "with fits.open(\"../Data/Spectrum/Spec_Src_820_ARF_00001_ts0.5_xg1_corr.fits\") as hdu:\n",
    "    hdu[1].data[\"SPECRESP\"] *= r_src\n",
    "    hdu.writeto(\"../Data/Spectrum/Spec_Src_820_ARF_00001_ts0.5_xg1_corr.fits\", overwrite=True)\n",
    "shutil.copy(\"../Data/Spectrum/Spec_BG_820_ARF_00001_ts2_xg2.fits\",\n",
    "            \"../Data/Spectrum/Spec_BG_820_ARF_00001_ts2_xg2_corr.fits\",)\n",
    "with fits.open(\"../Data/Spectrum/Spec_BG_820_ARF_00001_ts2_xg2_corr.fits\") as hdu:\n",
    "    hdu[1].data[\"SPECRESP\"] *= r_bkg\n",
    "    hdu.writeto(\"../Data/Spectrum/Spec_BG_820_ARF_00001_ts2_xg2_corr.fits\", overwrite=True)"
   ]
  },
  {
   "cell_type": "code",
   "execution_count": 23,
   "metadata": {},
   "outputs": [
    {
     "data": {
      "text/plain": [
       "'122.944+/-9.507'"
      ]
     },
     "metadata": {},
     "output_type": "display_data"
    }
   ],
   "source": [
    "specdata_src = fits.getdata(\"../Data/Spectrum/Spec_Src_820_SourceSpec_00001_ts0.5_xg1_corr.fits\",\n",
    "                            ext=1)[\"COUNTS\"]\n",
    "specdata_bkg = fits.getdata(\"../Data/Spectrum/Spec_BG_820_SourceSpec_00001_ts2_xg2_corr.fits\",\n",
    "                            ext=1)[\"COUNTS\"]\n",
    "channel_elow = fits.getdata(\"../Data/Spectrum/Spec_Src_820_RMF_00001_ts0.5_xg1.fits\", \n",
    "                            ext=2)[\"E_MIN\"]  # Channel energy bounds are stored in RMF files\n",
    "exp_src = fits.getval(\"../Data/Spectrum/Spec_Src_820_SourceSpec_00001_ts0.5_xg1_corr.fits\", \n",
    "                      \"exposure\", ext=1)\n",
    "exp_bkg = fits.getval(\"../Data/Spectrum/Spec_BG_820_SourceSpec_00001_ts2_xg2_corr.fits\", \n",
    "                      \"exposure\", ext=1)\n",
    "backscal_src = fits.getval(\"../Data/Spectrum/Spec_Src_820_SourceSpec_00001_ts0.5_xg1_corr.fits\", \n",
    "                           \"backscal\", ext=1)\n",
    "backscal_bkg = fits.getval(\"../Data/Spectrum/Spec_BG_820_SourceSpec_00001_ts2_xg2_corr.fits\", \n",
    "                           \"backscal\", ext=1)\n",
    "\n",
    "channel_sel = (channel_elow > 6) & (channel_elow < 9)\n",
    "areascal_ratio = (specdata_src[channel_sel].sum() / exp_src) / \\\n",
    "                 (specdata_bkg[channel_sel].sum() / exp_bkg) / \\\n",
    "                 (backscal_src / backscal_bkg)\n",
    "areascal_ratio_err = areascal_ratio * (specdata_src[channel_sel].sum() ** -1. + specdata_bkg[channel_sel].sum()**-1.)**0.5\n",
    "display(f\"{areascal_ratio:.3f}+/-{areascal_ratio_err:.3f}\")"
   ]
  }
 ],
 "metadata": {
  "kernelspec": {
   "display_name": "heasoft_6.31",
   "language": "python",
   "name": "python3"
  },
  "language_info": {
   "codemirror_mode": {
    "name": "ipython",
    "version": 3
   },
   "file_extension": ".py",
   "mimetype": "text/x-python",
   "name": "python",
   "nbconvert_exporter": "python",
   "pygments_lexer": "ipython3",
   "version": "3.10.4"
  }
 },
 "nbformat": 4,
 "nbformat_minor": 2
}
