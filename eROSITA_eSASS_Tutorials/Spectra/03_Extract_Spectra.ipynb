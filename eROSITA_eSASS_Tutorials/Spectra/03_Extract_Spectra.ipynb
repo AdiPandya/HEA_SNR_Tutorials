{
 "cells": [
  {
   "cell_type": "markdown",
   "metadata": {},
   "source": [
    "# Spectral Extraction Tutorials"
   ]
  },
  {
   "cell_type": "code",
   "execution_count": 1,
   "metadata": {},
   "outputs": [],
   "source": [
    "import os\n",
    "import subprocess\n",
    "import numpy as np\n",
    "import matplotlib.pyplot as plt\n",
    "# from astropy.cosmology import FlatLambdaCDM\n",
    "from astropy import units as u\n",
    "from astropy.table import Table\n",
    "from astropy.io import fits\n",
    "from astropy.coordinates import SkyCoord\n",
    "import warnings\n",
    "warnings.filterwarnings(\"ignore\")"
   ]
  },
  {
   "cell_type": "code",
   "execution_count": 2,
   "metadata": {},
   "outputs": [],
   "source": [
    "cat = Table.read('../Data/eROSITA_Catalogues.fit')"
   ]
  },
  {
   "cell_type": "code",
   "execution_count": 3,
   "metadata": {},
   "outputs": [
    {
     "data": {
      "text/html": [
       "<div><i>Table length=930203</i>\n",
       "<table id=\"table130370345044432\" class=\"table-striped table-bordered table-condensed\">\n",
       "<thead><tr><th>IAUName</th><th>SkyTile</th><th>RA_ICRS</th><th>DE_ICRS</th><th>GLAT</th><th>ELON</th><th>FSPSNR</th></tr></thead>\n",
       "<thead><tr><th></th><th></th><th>deg</th><th>deg</th><th>deg</th><th>deg</th><th></th></tr></thead>\n",
       "<thead><tr><th>bytes23</th><th>int32</th><th>float64</th><th>float64</th><th>float64</th><th>float64</th><th>int16</th></tr></thead>\n",
       "<tr><td>1eRASS J080408.5+143949</td><td>122075</td><td>121.03561512022</td><td>14.66374546712</td><td>22.582025929909967</td><td>120.07636338693729</td><td>0</td></tr>\n",
       "<tr><td>1eRASS J080319.5+144649</td><td>122075</td><td>120.83127086442</td><td>14.78045761483</td><td>22.448671900315382</td><td>119.85884309038617</td><td>0</td></tr>\n",
       "<tr><td>1eRASS J080415.2+143124</td><td>122075</td><td>121.06368411779</td><td>14.52358196404</td><td>22.55054460165602</td><td>120.1321124493896</td><td>0</td></tr>\n",
       "<tr><td>1eRASS J080417.9+140221</td><td>122075</td><td>121.07475186127</td><td>14.03929287666</td><td>22.36474591720808</td><td>120.24316414028134</td><td>0</td></tr>\n",
       "<tr><td>1eRASS J080034.0+142746</td><td>122075</td><td>120.14208234443</td><td>14.46286346619</td><td>21.71037055225523</td><td>119.26728149190822</td><td>0</td></tr>\n",
       "<tr><td>1eRASS J081101.5+154237</td><td>122075</td><td>122.75646749818</td><td>15.71042539294</td><td>24.521942202877863</td><td>121.4841879601851</td><td>0</td></tr>\n",
       "<tr><td>1eRASS J081201.5+142011</td><td>122075</td><td>123.00647208478</td><td>14.33642972671</td><td>24.198892161183</td><td>122.0201413042213</td><td>0</td></tr>\n",
       "<tr><td>1eRASS J080108.9+140515</td><td>122075</td><td>120.28724719578</td><td>14.08764151465</td><td>21.686968726871388</td><td>119.48185685497229</td><td>0</td></tr>\n",
       "<tr><td>1eRASS J080353.6+143627</td><td>122075</td><td>120.97356823982</td><td>14.6076853102</td><td>22.50452466149657</td><td>120.02892956224048</td><td>0</td></tr>\n",
       "<tr><td>...</td><td>...</td><td>...</td><td>...</td><td>...</td><td>...</td><td>...</td></tr>\n",
       "<tr><td>1eRASS J081116.7+161748</td><td>122075</td><td>122.81987702675</td><td>16.2969234827</td><td>24.806957783697857</td><td>121.41690856383822</td><td>0</td></tr>\n",
       "<tr><td>1eRASS J080355.8+135733</td><td>122075</td><td>120.98258713764</td><td>13.95940104106</td><td>22.25059798193409</td><td>120.17171460831362</td><td>0</td></tr>\n",
       "<tr><td>1eRASS J080824.1+162107</td><td>122075</td><td>122.10049743044</td><td>16.35217599454</td><td>24.192210945406085</td><td>120.72921210839861</td><td>0</td></tr>\n",
       "<tr><td>1eRASS J080808.9+150232</td><td>122075</td><td>122.03738302733</td><td>15.04239376201</td><td>23.620953670698658</td><td>120.94790648274629</td><td>0</td></tr>\n",
       "<tr><td>1eRASS J080223.8+152129</td><td>122075</td><td>120.59934809084</td><td>15.35815063068</td><td>22.474279384308662</td><td>119.52031158409001</td><td>0</td></tr>\n",
       "<tr><td>1eRASS J080623.7+133826</td><td>122075</td><td>121.59884157419</td><td>13.64066950715</td><td>22.667799948331623</td><td>120.82743533931107</td><td>0</td></tr>\n",
       "<tr><td>1eRASS J081052.5+140312</td><td>122075</td><td>122.71878314437</td><td>14.05349810594</td><td>23.829326811734276</td><td>121.80770704784197</td><td>0</td></tr>\n",
       "<tr><td>1eRASS J080530.8+141034</td><td>122075</td><td>121.37870891127</td><td>14.17616743887</td><td>22.689710079685998</td><td>120.50463813000958</td><td>0</td></tr>\n",
       "<tr><td>1eRASS J080015.4+155636</td><td>122075</td><td>120.06423130741</td><td>15.9435368228</td><td>22.233113924201863</td><td>118.89489345340122</td><td>0</td></tr>\n",
       "</table></div>"
      ],
      "text/plain": [
       "<Table length=930203>\n",
       "        IAUName         SkyTile     RA_ICRS     ...        ELON        FSPSNR\n",
       "                                      deg       ...        deg               \n",
       "        bytes23          int32      float64     ...      float64       int16 \n",
       "----------------------- ------- --------------- ... ------------------ ------\n",
       "1eRASS J080408.5+143949  122075 121.03561512022 ... 120.07636338693729      0\n",
       "1eRASS J080319.5+144649  122075 120.83127086442 ... 119.85884309038617      0\n",
       "1eRASS J080415.2+143124  122075 121.06368411779 ...  120.1321124493896      0\n",
       "1eRASS J080417.9+140221  122075 121.07475186127 ... 120.24316414028134      0\n",
       "1eRASS J080034.0+142746  122075 120.14208234443 ... 119.26728149190822      0\n",
       "1eRASS J081101.5+154237  122075 122.75646749818 ...  121.4841879601851      0\n",
       "1eRASS J081201.5+142011  122075 123.00647208478 ...  122.0201413042213      0\n",
       "1eRASS J080108.9+140515  122075 120.28724719578 ... 119.48185685497229      0\n",
       "1eRASS J080353.6+143627  122075 120.97356823982 ... 120.02892956224048      0\n",
       "                    ...     ...             ... ...                ...    ...\n",
       "1eRASS J081116.7+161748  122075 122.81987702675 ... 121.41690856383822      0\n",
       "1eRASS J080355.8+135733  122075 120.98258713764 ... 120.17171460831362      0\n",
       "1eRASS J080824.1+162107  122075 122.10049743044 ... 120.72921210839861      0\n",
       "1eRASS J080808.9+150232  122075 122.03738302733 ... 120.94790648274629      0\n",
       "1eRASS J080223.8+152129  122075 120.59934809084 ... 119.52031158409001      0\n",
       "1eRASS J080623.7+133826  122075 121.59884157419 ... 120.82743533931107      0\n",
       "1eRASS J081052.5+140312  122075 122.71878314437 ... 121.80770704784197      0\n",
       "1eRASS J080530.8+141034  122075 121.37870891127 ... 120.50463813000958      0\n",
       "1eRASS J080015.4+155636  122075 120.06423130741 ... 118.89489345340122      0"
      ]
     },
     "execution_count": 3,
     "metadata": {},
     "output_type": "execute_result"
    }
   ],
   "source": [
    "cat"
   ]
  },
  {
   "cell_type": "code",
   "execution_count": 4,
   "metadata": {},
   "outputs": [],
   "source": [
    "is_spurious = cat['FSPSNR'].astype(bool)\n",
    "cat = cat[~is_spurious]\n",
    "\n",
    "cat_coord = SkyCoord(cat['RA_ICRS'], cat['DE_ICRS'], unit='deg')\n",
    "\n",
    "coord_obj = SkyCoord(83.63240, 22.01740, unit='deg')\n",
    "\n",
    "distance = cat_coord.separation(coord_obj)"
   ]
  },
  {
   "cell_type": "code",
   "execution_count": 5,
   "metadata": {},
   "outputs": [],
   "source": [
    "Image_file = '../Data/Images/merged_exp_corr_200_2300.fits'"
   ]
  },
  {
   "cell_type": "code",
   "execution_count": 6,
   "metadata": {},
   "outputs": [
    {
     "data": {
      "text/plain": [
       "<SkyCoord (ICRS): (ra, dec) in deg\n",
       "    [(85.55021296, 20.20636293), (81.66400501, 23.80665032)]>"
      ]
     },
     "execution_count": 6,
     "metadata": {},
     "output_type": "execute_result"
    }
   ],
   "source": [
    "from astropy.wcs import WCS\n",
    "\n",
    "# Read the image file header\n",
    "with fits.open(Image_file) as hdul:\n",
    "    header = hdul[0].header\n",
    "\n",
    "# Extract the WCS information from the header\n",
    "wcs = WCS(header)\n",
    "\n",
    "# Calculate the extent of the image\n",
    "naxis1 = header['NAXIS1']\n",
    "naxis2 = header['NAXIS2']\n",
    "ra_min, dec_min = wcs.wcs_pix2world([[0, 0]], 0)[0]\n",
    "ra_max, dec_max = wcs.wcs_pix2world([[naxis1, naxis2]], 0)[0]\n",
    "\n",
    "# Define the extent of the image\n",
    "extent = SkyCoord([ra_min, ra_max], [dec_min, dec_max], unit='deg')\n",
    "extent"
   ]
  },
  {
   "cell_type": "code",
   "execution_count": 7,
   "metadata": {},
   "outputs": [],
   "source": [
    "# Apply cuts on the catalog using ra_min, ra_max, dec_min, dec_max\n",
    "cat_cut = cat[(cat['RA_ICRS'] >= ra_max) & (cat['RA_ICRS'] <= ra_min) & \n",
    "              (cat['DE_ICRS'] >= dec_min) & (cat['DE_ICRS'] <= dec_max)]\n",
    "\n",
    "with open('../Data/Spectrum/cat_deg.reg', 'w') as f:\n",
    "    # f.write('fk5\\n')\n",
    "    for row in cat_cut:\n",
    "        f.write(f'circle({row[\"RA_ICRS\"]},{row[\"DE_ICRS\"]},50\") # color=red\\n')"
   ]
  },
  {
   "cell_type": "code",
   "execution_count": 8,
   "metadata": {},
   "outputs": [],
   "source": [
    "cat_src = cat[distance < 500/3600 * u.deg]\n",
    "\n",
    "with open('../Data/Spectrum/src_deg.reg', 'w') as f:\n",
    "    # f.write('fk5\\n')\n",
    "    f.write(f'circle({coord_obj.ra.deg},{coord_obj.dec.deg},500\") # color=white\\n')\n",
    "    for row in cat_src:\n",
    "        f.write(f'-circle({row[\"RA_ICRS\"]},{row[\"DE_ICRS\"]},50\") # color=red\\n')"
   ]
  },
  {
   "cell_type": "code",
   "execution_count": 9,
   "metadata": {},
   "outputs": [],
   "source": [
    "cat_bg = cat[(distance >= 1000/3600 * u.deg) & (distance < 2500/3600 * u.deg)]\n",
    "\n",
    "with open('../Data/Spectrum/bg_deg.reg', 'w') as f:\n",
    "    # f.write('fk5\\n')\n",
    "    f.write(f'annulus({coord_obj.ra.deg},{coord_obj.dec.deg},1000\", 2500\") # color=green\\n')\n",
    "    for row in cat_bg:\n",
    "        f.write(f'-circle({row[\"RA_ICRS\"]},{row[\"DE_ICRS\"]},50\") # color=red\\n')"
   ]
  },
  {
   "cell_type": "markdown",
   "metadata": {},
   "source": [
    "## Generate spectra, ARFs, and RMFs"
   ]
  },
  {
   "cell_type": "code",
   "execution_count": 32,
   "metadata": {},
   "outputs": [],
   "source": [
    "def run_srctool(eventfiles, srccoord, prefix, srcreg, backreg, tstep=0.5, xgrid=1, log_file=None):\n",
    "    subprocess.run(['srctool',\n",
    "                    f'eventfiles={eventfiles}',\n",
    "                    f'srccoord={srccoord}',\n",
    "                    f'prefix={prefix}',\n",
    "                    'todo=SPEC ARF RMF',\n",
    "                    'insts=1 2 3 4 6',  # read from TM12346 only\n",
    "                    'writeinsts=8',  # write spectra of individual TMs as well as TM8\n",
    "                    f'srcreg={srcreg}',\n",
    "                    f'suffix=_ts{tstep}_xg{xgrid}.fits',\n",
    "                    f'backreg={backreg}',  # we don't need a spectrum from a background region as we are interested in the astrophysical background ourselves, not sources on top of the background\n",
    "                    'exttype=TOPHAT',  # assume the source is uniformly bright to estimate the effective area\n",
    "                    'extpars=15500',  # approximate diameter of the tophat circle that will cover the full spectral extraction region (in arcsec)\n",
    "                    f'tstep={tstep}',  # time step for the light curve\n",
    "                    f'xgrid={xgrid}',  # these numbers are the trade-off between accuracy and time.\n",
    "                    'psftype=NONE',  # do not correct for psf\n",
    "                    'pat_sel=15',  # all valid patterns\n",
    "                    'clobber=yes'\n",
    "                    ],\n",
    "                   stdout=log_file,\n",
    "                   stderr=log_file)"
   ]
  },
  {
   "cell_type": "code",
   "execution_count": 33,
   "metadata": {},
   "outputs": [
    {
     "name": "stdout",
     "output_type": "stream",
     "text": [
      "srctool tasks completed successfully\n"
     ]
    }
   ],
   "source": [
    "with open('../Data/Spectrum/Spec_SRC_BG_log.txt', 'w+') as log_file:\n",
    "\n",
    "    run_srctool('../Data/Filtered_data/Merged/Merged_020_s05_TM0_Events.fits', \n",
    "                'icrs; 83.63240,+22.01740',\n",
    "                '../Data/Spectrum/Spec_Src_', \n",
    "                '../Data/Spectrum/src_deg.reg', \n",
    "                '../Data/Spectrum/bg_deg.reg', log_file=log_file)\n",
    "    \n",
    "    log_file.seek(0)\n",
    "    log_content = log_file.readlines()\n",
    "    srctool_count = sum(1 for line in log_content if 'srctool: DONE' in line)\n",
    "    if srctool_count == 1:\n",
    "        print('srctool tasks completed successfully')"
   ]
  }
 ],
 "metadata": {
  "kernelspec": {
   "display_name": "heasoft_6.31",
   "language": "python",
   "name": "python3"
  },
  "language_info": {
   "codemirror_mode": {
    "name": "ipython",
    "version": 3
   },
   "file_extension": ".py",
   "mimetype": "text/x-python",
   "name": "python",
   "nbconvert_exporter": "python",
   "pygments_lexer": "ipython3",
   "version": "3.10.4"
  }
 },
 "nbformat": 4,
 "nbformat_minor": 2
}
