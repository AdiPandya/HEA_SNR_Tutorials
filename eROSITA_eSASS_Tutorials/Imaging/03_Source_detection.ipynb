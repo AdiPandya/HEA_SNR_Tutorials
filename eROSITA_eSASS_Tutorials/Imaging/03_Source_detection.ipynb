{
 "cells": [
  {
   "cell_type": "markdown",
   "metadata": {},
   "source": [
    "# Source detection"
   ]
  },
  {
   "cell_type": "code",
   "execution_count": 1,
   "metadata": {},
   "outputs": [],
   "source": [
    "import subprocess\n",
    "# import multiprocess\n",
    "import numpy as np\n",
    "from astropy.io import fits\n",
    "from astropy import units as u\n",
    "import matplotlib.pyplot as plt\n",
    "from astropy import wcs\n",
    "import os\n",
    "from tqdm import tqdm\n",
    "from astropy.coordinates import SkyCoord\n",
    "import warnings\n",
    "warnings.filterwarnings(\"ignore\")"
   ]
  },
  {
   "cell_type": "code",
   "execution_count": 2,
   "metadata": {},
   "outputs": [],
   "source": [
    "plt.style.use(\"default\")\n",
    "plt.rc('xtick', direction='in', top=True)\n",
    "plt.rc('ytick', direction='in', right=True)\n",
    "plt.rc('axes', linewidth=1.15)\n",
    "\n",
    "plt.rc(\"mathtext\", fontset=\"dejavuserif\")"
   ]
  },
  {
   "cell_type": "code",
   "execution_count": 3,
   "metadata": {},
   "outputs": [],
   "source": [
    "if not os.path.exists('../Data/Source_cat'):\n",
    "    os.system('mkdir ../Data/Source_cat')\n",
    "\n",
    "if not os.path.exists('../Data/Source_cat/BG_maps'):\n",
    "    os.system('mkdir ../Data/Source_cat/BG_maps')\n",
    "\n",
    "image_file = \"../Data/Images/merged_image_200_2300.fits\"\n",
    "expmap_file = \"../Data/Images/merged_expmap_200_2300.fits\""
   ]
  },
  {
   "cell_type": "code",
   "execution_count": 4,
   "metadata": {},
   "outputs": [],
   "source": [
    "LOG_file = open(\"../Data/Source_cat/process.log\", \"w+\")"
   ]
  },
  {
   "cell_type": "markdown",
   "metadata": {},
   "source": [
    "## ERMASK:\n",
    "It generates a detection mask for the eSASS source detection chain. The resulting product is a FITS image with values 0 and 1, where 1 indicates the image area on which the subsequent source detection tasks will be executed."
   ]
  },
  {
   "cell_type": "code",
   "execution_count": 5,
   "metadata": {},
   "outputs": [],
   "source": [
    "def run_ermask(exposure_map, output_mask_file, log_file=None):\n",
    "    subprocess.run([\"ermask\", \n",
    "                    f\"expimage={exposure_map}\", \n",
    "                    f\"detmask={output_mask_file}\",\n",
    "                    ], stdout=log_file, stderr=log_file)"
   ]
  },
  {
   "cell_type": "code",
   "execution_count": 6,
   "metadata": {},
   "outputs": [],
   "source": [
    "output_mask_file = \"../Data/Source_cat/detmask.fits\"\n",
    "\n",
    "if os.path.exists(output_mask_file):\n",
    "    os.remove(output_mask_file)\n",
    "\n",
    "with open(\"../Data/Source_cat/process.log\", \"a\") as log_file:\n",
    "    run_ermask(expmap_file, output_mask_file, log_file=log_file)"
   ]
  },
  {
   "cell_type": "markdown",
   "metadata": {},
   "source": [
    "## ERBOX (local):\n",
    "This step performs sliding box source detection in local mode. The objective of the local detection step is to create an initial list of source positions for the ERBACKMAP task (described below), which then generates a background map from a source-free image."
   ]
  },
  {
   "cell_type": "code",
   "execution_count": 7,
   "metadata": {},
   "outputs": [],
   "source": [
    "def run_erbox(image_file, exposure_map, detmask_file, output_boxlist, bkg_map=None, bg_image_flag=\"N\", ecf=1, emin=200, emax=2300, log_file=None):\n",
    "    if bg_image_flag==\"N\":\n",
    "        subprocess.run([\"erbox\", \n",
    "                        f\"images={image_file}\", \n",
    "                        f\"expimages={exposure_map}\",\n",
    "                        f\"detmasks={detmask_file}\",\n",
    "                        f\"boxlist={output_boxlist}\",\n",
    "                        f\"emin={emin}\",\n",
    "                        f\"emax={emax}\",\n",
    "                        f\"bkgima_flag={bg_image_flag}\",\n",
    "                        f\"ecf={ecf}\",\n",
    "                        ], stdout=log_file, stderr=log_file)\n",
    "    else:\n",
    "        subprocess.run([\"erbox\", \n",
    "                        f\"images={image_file}\", \n",
    "                        f\"expimages={exposure_map}\",\n",
    "                        f\"detmasks={detmask_file}\",\n",
    "                        f\"boxlist={output_boxlist}\",\n",
    "                        f\"emin={emin}\",\n",
    "                        f\"emax={emax}\",\n",
    "                        f\"bkgimages={bkg_map}\",\n",
    "                        f\"ecf={ecf}\",\n",
    "                        ], stdout=log_file, stderr=log_file)"
   ]
  },
  {
   "cell_type": "code",
   "execution_count": 8,
   "metadata": {},
   "outputs": [],
   "source": [
    "output_boxlist_local = \"../Data/Source_cat/boxlist_local.fits\"\n",
    "\n",
    "if os.path.exists(output_boxlist_local):\n",
    "    os.remove(output_boxlist_local)\n",
    "\n",
    "with open(\"../Data/Source_cat/process.log\", \"a\") as log_file:\n",
    "    run_erbox(image_file, expmap_file, output_mask_file, \n",
    "              output_boxlist_local, log_file=log_file)"
   ]
  },
  {
   "cell_type": "markdown",
   "metadata": {},
   "source": [
    "## ERBACKMAP"
   ]
  },
  {
   "cell_type": "code",
   "execution_count": 9,
   "metadata": {},
   "outputs": [],
   "source": [
    "def run_erbackmap(image_file, exposure_map, detmask_file, boxlist_file, output_bkgmap, output_cheesemask, emin=200, emax=2300, log_file=None):\n",
    "    subprocess.run([\"erbackmap\", \n",
    "                    f\"image={image_file}\", \n",
    "                    f\"expimage={exposure_map}\",\n",
    "                    f\"detmask={detmask_file}\",\n",
    "                    f\"boxlist={boxlist_file}\",\n",
    "                    f\"bkgimage={output_bkgmap}\",\n",
    "                    f\"cheesemask={output_cheesemask}\",\n",
    "                    # f\"emin={emin}\",\n",
    "                    f\"emax={emax}\",\n",
    "                    \"cheesemask_flag=Y\",\n",
    "                    \"clobber=Y\",\n",
    "                    ], stdout=log_file, stderr=log_file)"
   ]
  },
  {
   "cell_type": "code",
   "execution_count": 10,
   "metadata": {},
   "outputs": [],
   "source": [
    "output_bkgmap = \"../Data/Source_cat/BG_maps/bkg_map.fits\"\n",
    "output_cheesemask = \"../Data/Source_cat/BG_maps/cheesemask.fits\"\n",
    "\n",
    "with open(\"../Data/Source_cat/process.log\", \"a\") as log_file:\n",
    "    run_erbackmap(image_file, expmap_file, output_mask_file, \n",
    "                  output_boxlist_local, output_bkgmap, output_cheesemask, \n",
    "                  log_file=log_file)"
   ]
  },
  {
   "cell_type": "markdown",
   "metadata": {},
   "source": [
    "## ERBOX (map):"
   ]
  },
  {
   "cell_type": "code",
   "execution_count": 11,
   "metadata": {},
   "outputs": [],
   "source": [
    "output_boxlist_map = \"../Data/Source_cat/boxlist_map.fits\"\n",
    "\n",
    "if os.path.exists(output_boxlist_map):\n",
    "    os.remove(output_boxlist_map)\n",
    "\n",
    "with open(\"../Data/Source_cat/process.log\", \"a\") as log_file:\n",
    "    run_erbox(image_file, expmap_file, output_mask_file, \n",
    "              output_boxlist_map, output_bkgmap, log_file=log_file)"
   ]
  },
  {
   "cell_type": "markdown",
   "metadata": {},
   "source": [
    "## ERMLDET:"
   ]
  },
  {
   "cell_type": "code",
   "execution_count": 12,
   "metadata": {},
   "outputs": [],
   "source": [
    "def run_ermldet(image_file, exposure_map, detmask_file, boxlist_file,\n",
    "                bkg_map, output_mllist, output_sourceimage, emin=200, emax=2300, log_file=None):\n",
    "    subprocess.run([\"ermldet\", \n",
    "                    f\"mllist={output_mllist}\", \n",
    "                    f\"boxlist={boxlist_file}\",\n",
    "                    f\"images={image_file}\",\n",
    "                    f\"expimages={exposure_map}\",\n",
    "                    f\"detmasks={detmask_file}\",\n",
    "                    f\"bkgimages={bkg_map}\",\n",
    "                    f\"srcimages={output_sourceimage}\",\n",
    "                    \"extentmodel=gaussian\",\n",
    "                    f\"emin={emin}\",\n",
    "                    f\"emax={emax}\",\n",
    "                    \"srcima_flag=Y\"\n",
    "                    ], stdout=log_file, stderr=log_file)"
   ]
  },
  {
   "cell_type": "code",
   "execution_count": 13,
   "metadata": {},
   "outputs": [],
   "source": [
    "output_mllist = \"../Data/Source_cat/mllist.fits\"\n",
    "output_sourceimage = \"../Data/Source_cat/sourceimage.fits\"\n",
    "\n",
    "if os.path.exists(output_mllist):\n",
    "    os.remove(output_mllist)\n",
    "\n",
    "if os.path.exists(output_sourceimage):\n",
    "    os.remove(output_sourceimage)\n",
    "\n",
    "with open(\"../Data/Source_cat/process.log\", \"a\") as log_file:\n",
    "    run_ermldet(image_file, expmap_file, output_mask_file, \n",
    "                output_boxlist_map, output_bkgmap, \n",
    "                output_mllist, output_sourceimage, log_file=log_file)"
   ]
  },
  {
   "cell_type": "markdown",
   "metadata": {},
   "source": [
    "## CATPREP:"
   ]
  },
  {
   "cell_type": "code",
   "execution_count": 15,
   "metadata": {},
   "outputs": [],
   "source": [
    "def run_catprep(input_mllist, out_catfile, log_file=None):\n",
    "    subprocess.run([\"catprep\", \n",
    "                    f\"infile={input_mllist}\", \n",
    "                    f\"outfile={out_catfile}\"\n",
    "                    ], stdout=log_file, stderr=log_file)\n",
    "\n",
    "output_catalog = \"../Data/Source_cat/catalog.fits\"\n",
    "\n",
    "if os.path.exists(output_catalog):\n",
    "    os.remove(output_catalog)\n",
    "\n",
    "with open(\"../Data/Source_cat/process.log\", \"a\") as log_file:\n",
    "    run_catprep(output_mllist, output_catalog, log_file=log_file)"
   ]
  },
  {
   "cell_type": "markdown",
   "metadata": {},
   "source": [
    "## Selecting point sources and extended sources:"
   ]
  },
  {
   "cell_type": "code",
   "execution_count": 14,
   "metadata": {},
   "outputs": [],
   "source": [
    "cheesemask_file = 'cheesemask.fits'\n",
    "pts_cat = \"../../../eRASS1_Main.v1.1.fits\"\n",
    "detmask_file = \"../Data/Source_cat/detmask.fits\"\n",
    "\n",
    "hdulist = fits.open(image_file)\n",
    "ima = hdulist[0].data\n",
    "prihdr = hdulist[0].header\n",
    "pix2deg = prihdr['CDELT2'] # deg\n",
    "xsize, ysize = ima.T.shape\n",
    "# mask_0 = np.copy(ima) * 0 + 1.\n",
    "mask_hdu = fits.open(detmask_file)\n",
    "mask = mask_hdu[0].data\n",
    "\n",
    "ima_wcs = wcs.WCS(prihdr, relax=False)\n",
    "ima_racen, ima_deccen = prihdr['CRVAL1'], prihdr['CRVAL2']\n",
    "ima_r = np.max((xsize,ysize)) / 2 * pix2deg # deg\n",
    "ima_coord = SkyCoord(ima_racen * u.deg, ima_deccen * u.deg, frame = 'icrs')\n",
    "\n",
    "cat_src = fits.open(pts_cat)[1].data\n",
    "cat_src = cat_src[(cat_src.EXT == 0) & (cat_src.DET_LIKE_0 > 12)] # Select high S/N point sources with DET_LIKE>8\n",
    "coord_src = SkyCoord(cat_src.RA * u.deg, cat_src.DEC * u.deg, frame = 'icrs')\n",
    "\n",
    "# Convert RA and DEC of sources to pixel coordinates\n",
    "pix_coords = ima_wcs.all_world2pix(np.column_stack((cat_src.RA, cat_src.DEC)), 0)\n",
    "# Only consider pix_coords that are within the image pixel bounds\n",
    "valid_pix_coords_mask = (pix_coords[:, 0] >= 0) & (pix_coords[:, 0] < (xsize-1)) & (pix_coords[:, 1] >= 0) & (pix_coords[:, 1] < (ysize-1))\n",
    "pix_coords = pix_coords[valid_pix_coords_mask]\n",
    "\n",
    "# Create a mask to keep only sources with mask value of 1\n",
    "# Needs the previous step to remove pixel coordinates that do  not belong to image i.e. <0 or >image size\n",
    "valid_sources_mask = mask[pix_coords[:, 1].astype(int), pix_coords[:, 0].astype(int)] == 1\n",
    "\n",
    "# Apply the mask to cat_src\n",
    "cat_src = cat_src[valid_pix_coords_mask][valid_sources_mask]\n",
    "\n",
    "ra_src = cat_src.RA\n",
    "dec_src = cat_src.DEC\n",
    "\n",
    "# Fix the masking radius to 1arcmin. Needs to be modified for more accurate analysis.\n",
    "ext_src = np.zeros(len(ra_src)) + 1/60 \n",
    "\n",
    "def circle(X, Y):\n",
    "    x, y = np.meshgrid(X, Y)\n",
    "    rho = np.sqrt(x * x + y * y)\n",
    "    return rho\n",
    "\n",
    "x = np.arange(ysize)\n",
    "y = np.arange(xsize)\n",
    "for j in tqdm(range(len(ra_src))):\n",
    "    pixim = ima_wcs.all_world2pix([[float(ra_src[j]), float(dec_src[j])]], 0)\n",
    "    xp = pixim[0][0]\n",
    "    yp = pixim[0][1]\n",
    "    rho = circle(x - xp, y - yp) * pix2deg\n",
    "    ii = np.where(rho <= ext_src[j])\n",
    "    if len(ii) > 0:\n",
    "        mask[ii] = 0\n",
    "\n",
    "hdu = fits.PrimaryHDU(mask)\n",
    "hdu.header.update(ima_wcs.to_header())\n",
    "hdulist = fits.HDUList([hdu])\n",
    "hdulist.writeto(cheesemask_file, overwrite=True)"
   ]
  },
  {
   "cell_type": "code",
   "execution_count": 13,
   "metadata": {},
   "outputs": [],
   "source": [
    "with open('sources.reg', 'w') as f:\n",
    "    for i in range(len(ra_src)):\n",
    "        print(f\"fk5; circle({ra_src[i]},{dec_src[i]},{ext_src[i]})\", file=f)"
   ]
  }
 ],
 "metadata": {
  "kernelspec": {
   "display_name": "heasoft_6.31",
   "language": "python",
   "name": "python3"
  },
  "language_info": {
   "codemirror_mode": {
    "name": "ipython",
    "version": 3
   },
   "file_extension": ".py",
   "mimetype": "text/x-python",
   "name": "python",
   "nbconvert_exporter": "python",
   "pygments_lexer": "ipython3",
   "version": "3.10.4"
  }
 },
 "nbformat": 4,
 "nbformat_minor": 2
}
