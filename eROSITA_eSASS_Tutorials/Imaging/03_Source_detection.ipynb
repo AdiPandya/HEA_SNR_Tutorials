{
 "cells": [
  {
   "cell_type": "markdown",
   "metadata": {},
   "source": [
    "# Source detection"
   ]
  },
  {
   "cell_type": "code",
   "execution_count": 17,
   "metadata": {},
   "outputs": [],
   "source": [
    "import subprocess\n",
    "# import multiprocess\n",
    "import numpy as np\n",
    "from astropy.io import fits\n",
    "import matplotlib.pyplot as plt\n",
    "from astropy import wcs\n",
    "import os\n",
    "from tqdm import tqdm\n",
    "from scipy.ndimage import gaussian_filter\n",
    "from astropy.convolution import Gaussian2DKernel, convolve_fft\n",
    "from astropy.visualization import make_lupton_rgb\n",
    "import warnings\n",
    "warnings.filterwarnings(\"ignore\")"
   ]
  },
  {
   "cell_type": "code",
   "execution_count": 18,
   "metadata": {},
   "outputs": [],
   "source": [
    "plt.style.use(\"default\")\n",
    "plt.rc('xtick', direction='in', top=True)\n",
    "plt.rc('ytick', direction='in', right=True)\n",
    "plt.rc('axes', linewidth=1.15)\n",
    "\n",
    "plt.rc(\"mathtext\", fontset=\"dejavuserif\")"
   ]
  },
  {
   "cell_type": "code",
   "execution_count": 19,
   "metadata": {},
   "outputs": [],
   "source": [
    "if not os.path.exists('../Data/Source_cat'):\n",
    "    os.system('mkdir ../Data/Source_cat')\n",
    "\n",
    "if not os.path.exists('../Data/Source_cat/BG_maps'):\n",
    "    os.system('mkdir ../Data/Source_cat/BG_maps')\n",
    "\n",
    "image_file = \"../Data/Images/merged_image_200_2300.fits\"\n",
    "expmap_file = \"../Data/Images/merged_expmap_200_2300.fits\""
   ]
  },
  {
   "cell_type": "code",
   "execution_count": 20,
   "metadata": {},
   "outputs": [],
   "source": [
    "LOG_file = open(\"../Data/Source_cat/process.log\", \"w+\")"
   ]
  },
  {
   "cell_type": "markdown",
   "metadata": {},
   "source": [
    "## ERMASK:\n",
    "It generates a detection mask for the eSASS source detection chain. The resulting product is a FITS image with values 0 and 1, where 1 indicates the image area on which the subsequent source detection tasks will be executed."
   ]
  },
  {
   "cell_type": "code",
   "execution_count": 21,
   "metadata": {},
   "outputs": [],
   "source": [
    "def run_ermask(exposure_map, output_mask_file, log_file=None):\n",
    "    subprocess.run([\"ermask\", \n",
    "                    f\"expimage={exposure_map}\", \n",
    "                    f\"detmask={output_mask_file}\",\n",
    "                    ], stdout=log_file, stderr=log_file)"
   ]
  },
  {
   "cell_type": "code",
   "execution_count": 22,
   "metadata": {},
   "outputs": [],
   "source": [
    "output_mask_file = \"../Data/Source_cat/detmask.fits\"\n",
    "\n",
    "if os.path.exists(output_mask_file):\n",
    "    os.remove(output_mask_file)\n",
    "\n",
    "with open(\"../Data/Source_cat/process.log\", \"a\") as log_file:\n",
    "    run_ermask(expmap_file, output_mask_file, log_file=log_file)"
   ]
  },
  {
   "cell_type": "markdown",
   "metadata": {},
   "source": [
    "## ERBOX (local):\n",
    "This step performs sliding box source detection in local mode. The objective of the local detection step is to create an initial list of source positions for the ERBACKMAP task (described below), which then generates a background map from a source-free image."
   ]
  },
  {
   "cell_type": "code",
   "execution_count": 23,
   "metadata": {},
   "outputs": [],
   "source": [
    "def run_erbox(image_file, exposure_map, detmask_file, output_boxlist, bkg_map=None, bg_image_flag=\"N\", ecf=1, emin=200, emax=2300, log_file=None):\n",
    "    if bg_image_flag==\"N\":\n",
    "        subprocess.run([\"erbox\", \n",
    "                        f\"images={image_file}\", \n",
    "                        f\"expimages={exposure_map}\",\n",
    "                        f\"detmasks={detmask_file}\",\n",
    "                        f\"boxlist={output_boxlist}\",\n",
    "                        f\"emin={emin}\",\n",
    "                        f\"emax={emax}\",\n",
    "                        f\"bkgima_flag={bg_image_flag}\",\n",
    "                        f\"ecf={ecf}\",\n",
    "                        ], stdout=log_file, stderr=log_file)\n",
    "    else:\n",
    "        subprocess.run([\"erbox\", \n",
    "                        f\"images={image_file}\", \n",
    "                        f\"expimages={exposure_map}\",\n",
    "                        f\"detmasks={detmask_file}\",\n",
    "                        f\"boxlist={output_boxlist}\",\n",
    "                        f\"emin={emin}\",\n",
    "                        f\"emax={emax}\",\n",
    "                        f\"bkgimages={bkg_map}\",\n",
    "                        f\"ecf={ecf}\",\n",
    "                        ], stdout=log_file, stderr=log_file)"
   ]
  },
  {
   "cell_type": "code",
   "execution_count": 26,
   "metadata": {},
   "outputs": [],
   "source": [
    "output_boxlist_local = \"../Data/Source_cat/boxlist_local.fits\"\n",
    "\n",
    "if os.path.exists(output_boxlist_local):\n",
    "    os.remove(output_boxlist_local)\n",
    "\n",
    "with open(\"../Data/Source_cat/process.log\", \"a\") as log_file:\n",
    "    run_erbox(image_file, expmap_file, output_mask_file, \n",
    "              output_boxlist_local, log_file=log_file)"
   ]
  },
  {
   "cell_type": "markdown",
   "metadata": {},
   "source": [
    "## ERBACKMAP"
   ]
  },
  {
   "cell_type": "code",
   "execution_count": 27,
   "metadata": {},
   "outputs": [],
   "source": [
    "def run_erbackmap(image_file, exposure_map, detmask_file, boxlist_file, output_bkgmap, output_cheesemask, emin=200, emax=2300, log_file=None):\n",
    "    subprocess.run([\"erbackmap\", \n",
    "                    f\"image={image_file}\", \n",
    "                    f\"expimage={exposure_map}\",\n",
    "                    f\"detmask={detmask_file}\",\n",
    "                    f\"boxlist={boxlist_file}\",\n",
    "                    f\"bkgimage={output_bkgmap}\",\n",
    "                    f\"cheesemask={output_cheesemask}\",\n",
    "                    # f\"emin={emin}\",\n",
    "                    f\"emax={emax}\",\n",
    "                    \"cheesemask_flag=Y\",\n",
    "                    \"clobber=Y\",\n",
    "                    ], stdout=log_file, stderr=log_file)"
   ]
  },
  {
   "cell_type": "code",
   "execution_count": 28,
   "metadata": {},
   "outputs": [],
   "source": [
    "output_bkgmap = \"../Data/Source_cat/BG_maps/bkg_map.fits\"\n",
    "output_cheesemask = \"../Data/Source_cat/BG_maps/cheesemask.fits\"\n",
    "\n",
    "with open(\"../Data/Source_cat/process.log\", \"a\") as log_file:\n",
    "    run_erbackmap(image_file, expmap_file, output_mask_file, \n",
    "                  output_boxlist_local, output_bkgmap, output_cheesemask, \n",
    "                  log_file=log_file)"
   ]
  },
  {
   "cell_type": "markdown",
   "metadata": {},
   "source": [
    "## ERBOX (map):"
   ]
  },
  {
   "cell_type": "code",
   "execution_count": 29,
   "metadata": {},
   "outputs": [],
   "source": [
    "output_boxlist_map = \"../Data/Source_cat/boxlist_map.fits\"\n",
    "\n",
    "if os.path.exists(output_boxlist_map):\n",
    "    os.remove(output_boxlist_map)\n",
    "\n",
    "with open(\"../Data/Source_cat/process.log\", \"a\") as log_file:\n",
    "    run_erbox(image_file, expmap_file, output_mask_file, \n",
    "              output_boxlist_map, output_bkgmap, log_file=log_file)"
   ]
  },
  {
   "cell_type": "markdown",
   "metadata": {},
   "source": [
    "## ERMLDET:"
   ]
  },
  {
   "cell_type": "code",
   "execution_count": 30,
   "metadata": {},
   "outputs": [],
   "source": [
    "def run_ermldet(image_file, exposure_map, detmask_file, boxlist_file,\n",
    "                bkg_map, output_mllist, output_sourceimage, emin=200, emax=2300, log_file=None):\n",
    "    subprocess.run([\"ermldet\", \n",
    "                    f\"mllist={output_mllist}\", \n",
    "                    f\"boxlist={boxlist_file}\",\n",
    "                    f\"images={image_file}\",\n",
    "                    f\"expimages={exposure_map}\",\n",
    "                    f\"detmasks={detmask_file}\",\n",
    "                    f\"bkgimages={bkg_map}\",\n",
    "                    f\"srcimages={output_sourceimage}\",\n",
    "                    \"extentmodel=gaussian\",\n",
    "                    f\"emin={emin}\",\n",
    "                    f\"emax={emax}\",\n",
    "                    \"srcima_flag=Y\"\n",
    "                    ], stdout=log_file, stderr=log_file)"
   ]
  },
  {
   "cell_type": "code",
   "execution_count": 32,
   "metadata": {},
   "outputs": [],
   "source": [
    "output_mllist = \"../Data/Source_cat/mllist.fits\"\n",
    "output_sourceimage = \"../Data/Source_cat/sourceimage.fits\"\n",
    "\n",
    "if os.path.exists(output_mllist):\n",
    "    os.remove(output_mllist)\n",
    "\n",
    "if os.path.exists(output_sourceimage):\n",
    "    os.remove(output_sourceimage)\n",
    "\n",
    "with open(\"../Data/Source_cat/process.log\", \"a\") as log_file:\n",
    "    run_ermldet(image_file, expmap_file, output_mask_file, \n",
    "                output_boxlist_map, output_bkgmap, \n",
    "                output_mllist, output_sourceimage, log_file=log_file)"
   ]
  },
  {
   "cell_type": "markdown",
   "metadata": {},
   "source": [
    "## CATPREP:"
   ]
  },
  {
   "cell_type": "code",
   "execution_count": 33,
   "metadata": {},
   "outputs": [],
   "source": [
    "def run_catprep(input_mllist, out_catfile, log_file=None):\n",
    "    subprocess.run([\"catprep\", \n",
    "                    f\"infile={input_mllist}\", \n",
    "                    f\"outfile={out_catfile}\"\n",
    "                    ], stdout=log_file, stderr=log_file)\n",
    "\n",
    "output_catalog = \"../Data/Source_cat/catalog.fits\"\n",
    "\n",
    "if os.path.exists(output_catalog):\n",
    "    os.remove(output_catalog)\n",
    "\n",
    "with open(\"../Data/Source_cat/process.log\", \"a\") as log_file:\n",
    "    run_catprep(output_mllist, output_catalog, log_file=log_file)"
   ]
  }
 ],
 "metadata": {
  "kernelspec": {
   "display_name": "heasoft_6.31",
   "language": "python",
   "name": "python3"
  },
  "language_info": {
   "codemirror_mode": {
    "name": "ipython",
    "version": 3
   },
   "file_extension": ".py",
   "mimetype": "text/x-python",
   "name": "python",
   "nbconvert_exporter": "python",
   "pygments_lexer": "ipython3",
   "version": "3.10.4"
  }
 },
 "nbformat": 4,
 "nbformat_minor": 2
}
