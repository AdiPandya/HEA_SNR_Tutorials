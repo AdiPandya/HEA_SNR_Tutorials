{
 "cells": [
  {
   "cell_type": "markdown",
   "metadata": {},
   "source": [
    "# Source detection"
   ]
  },
  {
   "cell_type": "code",
   "execution_count": 1,
   "metadata": {},
   "outputs": [],
   "source": [
    "import subprocess\n",
    "# import multiprocess\n",
    "import numpy as np\n",
    "from astropy.io import fits\n",
    "import matplotlib.pyplot as plt\n",
    "from astropy import wcs\n",
    "import os\n",
    "from tqdm import tqdm\n",
    "from scipy.ndimage import gaussian_filter\n",
    "from astropy.convolution import Gaussian2DKernel, convolve_fft\n",
    "from astropy.visualization import make_lupton_rgb\n",
    "import warnings\n",
    "warnings.filterwarnings(\"ignore\")"
   ]
  },
  {
   "cell_type": "code",
   "execution_count": 2,
   "metadata": {},
   "outputs": [],
   "source": [
    "plt.style.use(\"default\")\n",
    "plt.rc('xtick', direction='in', top=True)\n",
    "plt.rc('ytick', direction='in', right=True)\n",
    "plt.rc('axes', linewidth=1.15)\n",
    "\n",
    "plt.rc(\"mathtext\", fontset=\"dejavuserif\")"
   ]
  },
  {
   "cell_type": "code",
   "execution_count": 3,
   "metadata": {},
   "outputs": [],
   "source": [
    "if not os.path.exists('../Data/Source_cat'):\n",
    "    os.system('mkdir ../Data/Source_cat')\n",
    "\n",
    "if not os.path.exists('../Data/Source_cat/BG_maps'):\n",
    "    os.system('mkdir ../Data/Source_cat/BG_maps')\n",
    "\n",
    "image_file = \"../Data/Images/merged_image_200_2300.fits\"\n",
    "expmap_file = \"../Data/Images/merged_expmap_200_2300.fits\""
   ]
  },
  {
   "cell_type": "code",
   "execution_count": 4,
   "metadata": {},
   "outputs": [],
   "source": [
    "LOG_file = open(\"../Data/Source_cat/process.log\", \"w+\")"
   ]
  },
  {
   "cell_type": "markdown",
   "metadata": {},
   "source": [
    "## ERMASK:\n",
    "It generates a detection mask for the eSASS source detection chain. The resulting product is a FITS image with values 0 and 1, where 1 indicates the image area on which the subsequent source detection tasks will be executed."
   ]
  },
  {
   "cell_type": "code",
   "execution_count": 5,
   "metadata": {},
   "outputs": [],
   "source": [
    "def run_ermask(exposure_map, output_mask_file, log_file=None):\n",
    "    subprocess.run([\"ermask\", \n",
    "                    f\"expimage={exposure_map}\", \n",
    "                    f\"detmask={output_mask_file}\",\n",
    "                    ], stdout=log_file, stderr=log_file)"
   ]
  },
  {
   "cell_type": "code",
   "execution_count": 6,
   "metadata": {},
   "outputs": [],
   "source": [
    "output_mask_file = \"../Data/Source_cat/detmask.fits\"\n",
    "\n",
    "if os.path.exists(output_mask_file):\n",
    "    os.remove(output_mask_file)\n",
    "\n",
    "with open(\"../Data/Source_cat/process.log\", \"a\") as log_file:\n",
    "    run_ermask(expmap_file, output_mask_file, log_file=log_file)"
   ]
  },
  {
   "cell_type": "markdown",
   "metadata": {},
   "source": [
    "## ERBOX (local):\n",
    "This step performs sliding box source detection in local mode. The objective of the local detection step is to create an initial list of source positions for the ERBACKMAP task (described below), which then generates a background map from a source-free image."
   ]
  },
  {
   "cell_type": "code",
   "execution_count": 7,
   "metadata": {},
   "outputs": [],
   "source": [
    "def run_erbox(image_file, exposure_map, detmask_file, output_boxlist, bkg_map=None, bg_image_flag=\"N\", ecf=1, emin=200, emax=2300, log_file=None):\n",
    "    if bg_image_flag==\"N\":\n",
    "        subprocess.run([\"erbox\", \n",
    "                        f\"images={image_file}\", \n",
    "                        f\"expimages={exposure_map}\",\n",
    "                        f\"detmasks={detmask_file}\",\n",
    "                        f\"boxlist={output_boxlist}\",\n",
    "                        f\"emin={emin}\",\n",
    "                        f\"emax={emax}\",\n",
    "                        f\"bkgima_flag={bg_image_flag}\",\n",
    "                        f\"ecf={ecf}\",\n",
    "                        ], stdout=log_file, stderr=log_file)\n",
    "    else:\n",
    "        subprocess.run([\"erbox\", \n",
    "                        f\"images={image_file}\", \n",
    "                        f\"expimages={exposure_map}\",\n",
    "                        f\"detmasks={detmask_file}\",\n",
    "                        f\"boxlist={output_boxlist}\",\n",
    "                        f\"emin={emin}\",\n",
    "                        f\"emax={emax}\",\n",
    "                        f\"bkgimages={bkg_map}\",\n",
    "                        f\"ecf={ecf}\",\n",
    "                        ], stdout=log_file, stderr=log_file)"
   ]
  },
  {
   "cell_type": "code",
   "execution_count": 8,
   "metadata": {},
   "outputs": [],
   "source": [
    "output_boxlist_local = \"../Data/Source_cat/boxlist_local.fits\"\n",
    "\n",
    "if os.path.exists(output_boxlist_local):\n",
    "    os.remove(output_boxlist_local)\n",
    "\n",
    "with open(\"../Data/Source_cat/process.log\", \"a\") as log_file:\n",
    "    run_erbox(image_file, expmap_file, output_mask_file, \n",
    "              output_boxlist_local, log_file=log_file)"
   ]
  },
  {
   "cell_type": "markdown",
   "metadata": {},
   "source": [
    "## ERBACKMAP"
   ]
  },
  {
   "cell_type": "code",
   "execution_count": 9,
   "metadata": {},
   "outputs": [],
   "source": [
    "def run_erbackmap(image_file, exposure_map, detmask_file, boxlist_file, output_bkgmap, output_cheesemask, emin=200, emax=2300, log_file=None):\n",
    "    subprocess.run([\"erbackmap\", \n",
    "                    f\"image={image_file}\", \n",
    "                    f\"expimage={exposure_map}\",\n",
    "                    f\"detmask={detmask_file}\",\n",
    "                    f\"boxlist={boxlist_file}\",\n",
    "                    f\"bkgimage={output_bkgmap}\",\n",
    "                    f\"cheesemask={output_cheesemask}\",\n",
    "                    # f\"emin={emin}\",\n",
    "                    f\"emax={emax}\",\n",
    "                    \"cheesemask_flag=Y\",\n",
    "                    \"clobber=Y\",\n",
    "                    ], stdout=log_file, stderr=log_file)"
   ]
  },
  {
   "cell_type": "code",
   "execution_count": 10,
   "metadata": {},
   "outputs": [],
   "source": [
    "output_bkgmap = \"../Data/Source_cat/BG_maps/bkg_map.fits\"\n",
    "output_cheesemask = \"../Data/Source_cat/BG_maps/cheesemask.fits\"\n",
    "\n",
    "with open(\"../Data/Source_cat/process.log\", \"a\") as log_file:\n",
    "    run_erbackmap(image_file, expmap_file, output_mask_file, \n",
    "                  output_boxlist_local, output_bkgmap, output_cheesemask, \n",
    "                  log_file=log_file)"
   ]
  },
  {
   "cell_type": "markdown",
   "metadata": {},
   "source": [
    "## ERBOX (map):"
   ]
  },
  {
   "cell_type": "code",
   "execution_count": 11,
   "metadata": {},
   "outputs": [],
   "source": [
    "output_boxlist_map = \"../Data/Source_cat/boxlist_map.fits\"\n",
    "\n",
    "if os.path.exists(output_boxlist_map):\n",
    "    os.remove(output_boxlist_map)\n",
    "\n",
    "with open(\"../Data/Source_cat/process.log\", \"a\") as log_file:\n",
    "    run_erbox(image_file, expmap_file, output_mask_file, \n",
    "              output_boxlist_map, output_bkgmap, log_file=log_file)"
   ]
  },
  {
   "cell_type": "markdown",
   "metadata": {},
   "source": [
    "## ERMLDET:"
   ]
  },
  {
   "cell_type": "code",
   "execution_count": 12,
   "metadata": {},
   "outputs": [],
   "source": [
    "def run_ermldet(image_file, exposure_map, detmask_file, boxlist_file,\n",
    "                bkg_map, output_mllist, output_sourceimage, emin=200, emax=2300, log_file=None):\n",
    "    subprocess.run([\"ermldet\", \n",
    "                    f\"mllist={output_mllist}\", \n",
    "                    f\"boxlist={boxlist_file}\",\n",
    "                    f\"images={image_file}\",\n",
    "                    f\"expimages={exposure_map}\",\n",
    "                    f\"detmasks={detmask_file}\",\n",
    "                    f\"bkgimages={bkg_map}\",\n",
    "                    f\"srcimages={output_sourceimage}\",\n",
    "                    \"extentmodel=gaussian\",\n",
    "                    f\"emin={emin}\",\n",
    "                    f\"emax={emax}\",\n",
    "                    \"srcima_flag=Y\"\n",
    "                    ], stdout=log_file, stderr=log_file)"
   ]
  },
  {
   "cell_type": "code",
   "execution_count": 13,
   "metadata": {},
   "outputs": [],
   "source": [
    "output_mllist = \"../Data/Source_cat/mllist.fits\"\n",
    "output_sourceimage = \"../Data/Source_cat/sourceimage.fits\"\n",
    "\n",
    "if os.path.exists(output_mllist):\n",
    "    os.remove(output_mllist)\n",
    "\n",
    "if os.path.exists(output_sourceimage):\n",
    "    os.remove(output_sourceimage)\n",
    "\n",
    "with open(\"../Data/Source_cat/process.log\", \"a\") as log_file:\n",
    "    run_ermldet(image_file, expmap_file, output_mask_file, \n",
    "                output_boxlist_map, output_bkgmap, \n",
    "                output_mllist, output_sourceimage, log_file=log_file)"
   ]
  },
  {
   "cell_type": "markdown",
   "metadata": {},
   "source": [
    "## CATPREP:"
   ]
  },
  {
   "cell_type": "code",
   "execution_count": 4,
   "metadata": {},
   "outputs": [],
   "source": [
    "def run_catprep(input_mllist, out_catfile, log_file=None):\n",
    "    subprocess.run([\"catprep\", \n",
    "                    f\"infile={input_mllist}\", \n",
    "                    f\"outfile={out_catfile}\"\n",
    "                    ], stdout=log_file, stderr=log_file)\n",
    "\n",
    "output_catalog = \"../Data/Source_cat/catalog.fits\"\n",
    "\n",
    "if os.path.exists(output_catalog):\n",
    "    os.remove(output_catalog)\n",
    "\n",
    "with open(\"../Data/Source_cat/process.log\", \"a\") as log_file:\n",
    "    run_catprep(output_mllist, output_catalog, log_file=log_file)"
   ]
  },
  {
   "cell_type": "markdown",
   "metadata": {},
   "source": [
    "## Selecting point sources and extended sources:"
   ]
  },
  {
   "cell_type": "code",
   "execution_count": 10,
   "metadata": {},
   "outputs": [
    {
     "name": "stdout",
     "output_type": "stream",
     "text": [
      "Number of sources with EXT_LIKE = 0: 903521\n",
      "Number of sources with EXT_LIKE != 0: 26682\n"
     ]
    }
   ],
   "source": [
    "output_catalog = \"../../../eRASS1_Main.v1.1.fits\"\n",
    "with fits.open(output_catalog) as hdul:\n",
    "    data = hdul[1].data\n",
    "\n",
    "# Find the number of sources with EXT_LIKE as 0\n",
    "num_ext_like_0 = np.sum(data['EXT_LIKE'] == 0)\n",
    "\n",
    "# Find the number of sources with EXT_LIKE not equal to 0\n",
    "num_ext_like_nonzero = np.sum(data['EXT_LIKE'] != 0)\n",
    "\n",
    "print(f\"Number of sources with EXT_LIKE = 0: {num_ext_like_0}\")\n",
    "print(f\"Number of sources with EXT_LIKE != 0: {num_ext_like_nonzero}\")"
   ]
  },
  {
   "cell_type": "code",
   "execution_count": 14,
   "metadata": {},
   "outputs": [
    {
     "data": {
      "image/png": "[encoded data removed]",
      "text/plain": [
       "<Figure size 1000x600 with 1 Axes>"
      ]
     },
     "metadata": {},
     "output_type": "display_data"
    }
   ],
   "source": [
    "# Extract EXT_LIKE values from the catalog\n",
    "ext_like_values = data['EXT_LIKE']\n",
    "\n",
    "# Plot the histogram\n",
    "plt.figure(figsize=(10, 6))\n",
    "plt.hist(ext_like_values[data['EXT_LIKE']<100], bins=50, color='blue', alpha=0.7)\n",
    "plt.xlabel('EXT_LIKE')\n",
    "plt.ylabel('Number of Sources')\n",
    "plt.title('Histogram of EXT_LIKE values')\n",
    "# plt.xscale('log')\n",
    "plt.yscale('log')\n",
    "plt.grid(True)\n",
    "plt.show()"
   ]
  },
  {
   "cell_type": "code",
   "execution_count": 26,
   "metadata": {},
   "outputs": [
    {
     "data": {
      "text/plain": [
       "array([83.61556178, 83.64403924, 83.62794436, 84.72630143, 80.44065684,\n",
       "       84.2147348 , 84.20131881, 82.76734565, 82.75011785, 84.87789061,\n",
       "       83.64556493, 83.66126011, 82.31780755, 83.61313381, 83.61352055,\n",
       "       81.34441986, 84.150983  , 81.65928691, 80.44402699, 85.25571417,\n",
       "       80.54224307, 81.77403096, 83.05202317, 86.46088082, 86.47450327,\n",
       "       84.4111014 , 85.27179598, 82.42646945, 81.00852196, 83.250063  ,\n",
       "       81.76288601, 81.81758467, 83.34890527, 80.70935564, 86.49369838,\n",
       "       81.10598496, 87.24866387, 80.14658085, 80.69604706, 82.49448408,\n",
       "       86.54325062, 84.74079826, 85.87104726, 87.43813468, 82.89432444,\n",
       "       87.25375136, 82.25156455, 82.49133027, 83.66488872, 83.86294436,\n",
       "       85.10638654, 87.00209488, 87.46883167, 84.79803075, 80.70791343,\n",
       "       85.58999726, 86.66546203, 79.96703869, 79.82009002, 82.84180228,\n",
       "       84.04536135, 86.63627751, 81.24375568, 82.85145726, 81.03354329,\n",
       "       82.17030389, 80.1543887 , 81.4373184 , 79.37979206, 84.24184784,\n",
       "       80.9781541 , 85.64375327, 86.89299456, 83.09308675, 80.09171901,\n",
       "       86.63373567, 86.2966041 , 86.47676579, 80.95340494, 85.7505432 ,\n",
       "       79.83031576, 84.94938846, 80.31617593, 82.91437018, 80.17580729,\n",
       "       83.20257581, 83.27619603, 85.57910479, 85.26719688, 83.39183707,\n",
       "       82.43853387, 83.09611196, 81.00470338, 83.95834347, 84.88962682,\n",
       "       85.81561022, 83.72104921, 84.11556186, 85.25750059, 81.31421045,\n",
       "       79.79192361, 86.94905367, 85.04632313, 81.83286308, 84.2698337 ,\n",
       "       83.85562484, 84.29180189, 82.16123637, 82.30607299, 81.19294223,\n",
       "       81.28219928, 83.41936704, 83.02249018, 83.56551139, 81.90681423,\n",
       "       84.57970141, 86.05948266, 85.92359193, 87.94427749, 84.6538467 ,\n",
       "       86.27719269, 79.92879651, 82.3856451 , 82.54930987, 80.804702  ,\n",
       "       84.31464948, 81.9236548 , 82.77953667, 80.56909301, 88.03223807,\n",
       "       86.23545737, 85.64458898, 80.66113837, 81.27178967, 83.46665944,\n",
       "       81.15567583, 80.24625129, 82.65963653, 86.15632072, 82.57917655,\n",
       "       87.42004051, 84.43327966, 81.22683179, 82.15519783, 84.70054623,\n",
       "       84.22671857, 85.92117226, 86.36579593, 84.964673  , 83.0147357 ,\n",
       "       86.63531252, 85.64588281, 83.95771327, 82.53595708, 82.52943324,\n",
       "       82.7109836 , 83.58494544, 83.60887221, 83.65101898, 83.66847897,\n",
       "       82.78395797, 81.746971  , 79.69141023, 83.54514513, 84.93640658,\n",
       "       82.94929942, 85.83602178, 80.23246331, 85.18935889, 84.22670046,\n",
       "       87.69905009, 82.55054774, 85.73797135, 81.83799677, 83.67758386,\n",
       "       83.73814422, 84.26838523, 79.86212285, 81.13643131, 82.91211707,\n",
       "       83.70719374, 83.40031695, 84.52964194, 83.52963164, 81.38871322,\n",
       "       85.30695731, 81.49771142, 85.40632417, 84.9744423 , 83.80631243,\n",
       "       83.47459125, 81.70012301, 83.4315426 , 81.49354705, 81.20200579,\n",
       "       82.93858925, 84.46862913, 84.35952079, 83.66459611, 83.71684672,\n",
       "       81.87655658, 82.65269293, 82.70999293, 81.47005261, 82.46436744,\n",
       "       86.24011924, 85.91551163, 83.57278871, 83.56932692, 83.48574011,\n",
       "       83.70202889, 83.59296189, 83.54823896, 83.54750162, 83.62679669,\n",
       "       83.46518929, 82.72872751, 85.54866335, 82.59495191, 85.2750572 ,\n",
       "       83.80779282, 82.33166309, 84.09496588, 85.59946712, 86.94773102,\n",
       "       87.63736731, 80.51918142, 83.78332616, 85.28400704, 82.04292539,\n",
       "       82.29195985, 83.57874151, 83.61314262, 83.58962284, 83.4337483 ,\n",
       "       79.87351549, 83.48822158, 80.25578111, 83.65763785, 83.73146985,\n",
       "       83.52334142, 83.63753019, 81.51376363, 86.03581315, 82.87162555,\n",
       "       83.73444043, 83.05518794, 81.72234562, 83.80437789, 82.83219082,\n",
       "       83.53598945, 84.48819347, 83.75275848, 81.39623768, 83.99437007,\n",
       "       80.22698102, 83.73642339, 80.07566671, 85.08204924, 83.69775343,\n",
       "       86.01257664, 85.30339329, 78.99427759, 80.956118  , 87.64852918,\n",
       "       83.63569848, 83.56407445, 83.48069519, 83.53481035, 83.70948546,\n",
       "       83.51842828, 83.4928299 , 84.71922437, 83.64407737, 83.66019981,\n",
       "       82.15667398, 82.85874257, 83.75644761, 83.77422268, 83.59046035,\n",
       "       84.63453306, 83.79442804, 81.84732752, 83.52507699, 83.68422473,\n",
       "       83.5268272 , 86.79090782, 82.41663926, 83.48831033, 83.50637977,\n",
       "       83.64483669, 83.70645299, 83.67881183, 83.8087111 , 83.54980437,\n",
       "       85.24692205, 86.86423432, 85.95862802, 85.89514757, 81.68047335,\n",
       "       81.15262235, 86.28808578, 87.47002075, 86.97930666, 87.15781916,\n",
       "       85.6306857 , 82.58351381, 79.27363617, 83.9142663 , 81.14708215,\n",
       "       87.99558849, 86.44199946, 84.3923965 , 80.86729779, 87.91693743,\n",
       "       82.7306137 , 86.19154943, 84.90703052, 87.71071575, 79.51022632,\n",
       "       79.98635089, 79.43608992, 87.47194123, 80.91299595, 85.46836877,\n",
       "       82.63881845, 85.94890384, 83.76623928, 83.48162682, 83.09543891,\n",
       "       83.54698615, 81.84472313, 83.68421646, 83.6819183 , 83.70294506,\n",
       "       83.71319106, 83.58825698, 86.03989471, 84.14135258, 83.5100962 ,\n",
       "       84.63645424, 85.56363587, 83.51697132, 82.57312203, 81.85141619,\n",
       "       79.9504431 , 79.36087078, 80.22047494, 83.78956387, 82.87496882,\n",
       "       84.70371736, 83.74622493, 83.15322235, 83.80159011, 83.43427128,\n",
       "       84.96537663, 86.89991964, 84.61693859, 84.30102687, 83.49072768,\n",
       "       81.24447843, 79.68317269, 86.78029543, 80.89148458, 83.57621945,\n",
       "       81.04490239, 88.34651354, 86.02866488, 87.89203544, 84.34019827,\n",
       "       83.75134323, 81.31195854, 80.2396137 , 81.64240068, 84.59909471,\n",
       "       85.5329539 , 85.23229039, 83.45029527, 84.86179683, 81.64898226,\n",
       "       85.98947262, 83.55894934, 83.51214948, 83.62757881, 83.37765686,\n",
       "       82.44068306, 82.61433958, 83.60780911, 83.58118085, 82.00860781,\n",
       "       80.01378921, 81.70561156, 85.17551022, 83.53202163, 83.91727566,\n",
       "       83.64113138, 83.1992539 , 80.54732748, 85.35026687, 85.40546233,\n",
       "       86.12653865, 79.20599852, 80.15012531, 80.68940775, 83.74341627,\n",
       "       83.57582545, 83.63798193, 83.64032906, 83.61349577, 83.61384517,\n",
       "       83.5262918 , 83.69569325], dtype='>f8')"
      ]
     },
     "execution_count": 26,
     "metadata": {},
     "output_type": "execute_result"
    }
   ],
   "source": [
    "ra_values"
   ]
  },
  {
   "cell_type": "code",
   "execution_count": 37,
   "metadata": {},
   "outputs": [
    {
     "data": {
      "text/plain": [
       "(16.67899, 66.71596)"
      ]
     },
     "execution_count": 37,
     "metadata": {},
     "output_type": "execute_result"
    }
   ],
   "source": [
    "max(size_pix), max(data['EXT'])"
   ]
  },
  {
   "cell_type": "code",
   "execution_count": 38,
   "metadata": {},
   "outputs": [
    {
     "name": "stdout",
     "output_type": "stream",
     "text": [
      "RA: 83.60887221431109, DEC: 22.11781498038925\n"
     ]
    }
   ],
   "source": [
    "# Find the index of the maximum value in data['EXT']\n",
    "max_ext_index = np.argmax(data['EXT'])\n",
    "\n",
    "# Get the corresponding RA and DEC values\n",
    "max_ra = data['RA'][max_ext_index]\n",
    "max_dec = data['DEC'][max_ext_index]\n",
    "\n",
    "print(f\"RA: {max_ra}, DEC: {max_dec}\")"
   ]
  },
  {
   "cell_type": "code",
   "execution_count": 33,
   "metadata": {},
   "outputs": [
    {
     "data": {
      "image/png": "[encoded data removed]",
      "text/plain": [
       "<Figure size 600x600 with 1 Axes>"
      ]
     },
     "metadata": {},
     "output_type": "display_data"
    }
   ],
   "source": [
    "with fits.open(image_file) as hdul:\n",
    "    w = wcs.WCS(hdul[0].header)\n",
    "\n",
    "ra_values = data['RA']\n",
    "dec_values = data['DEC']\n",
    "ext_values = data['EXT']/3600\n",
    "\n",
    "pixel_coords = w.wcs_world2pix(np.column_stack((ra_values, dec_values)), 1)\n",
    "\n",
    "x_coords, y_coords = pixel_coords[:, 0], pixel_coords[:, 1]\n",
    "size_pix = ext_values/np.abs(w.wcs.cdelt[0])\n",
    "\n",
    "fig = plt.figure(1, figsize=(6, 6))\n",
    "ax = plt.subplot(projection=w)\n",
    "ax.scatter(x_coords, y_coords, s=size_pix, alpha=0.7, edgecolors='w', c='b')\n",
    "ax.coords[0].set_format_unit('deg')\n",
    "ax.coords[1].set_format_unit('deg')\n",
    "plt.show()\n"
   ]
  }
 ],
 "metadata": {
  "kernelspec": {
   "display_name": "heasoft_6.31",
   "language": "python",
   "name": "python3"
  },
  "language_info": {
   "codemirror_mode": {
    "name": "ipython",
    "version": 3
   },
   "file_extension": ".py",
   "mimetype": "text/x-python",
   "name": "python",
   "nbconvert_exporter": "python",
   "pygments_lexer": "ipython3",
   "version": "3.10.4"
  }
 },
 "nbformat": 4,
 "nbformat_minor": 2
}
