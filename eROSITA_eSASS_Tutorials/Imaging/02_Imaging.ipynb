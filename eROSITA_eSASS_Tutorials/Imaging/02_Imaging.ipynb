{
 "cells": [
  {
   "cell_type": "markdown",
   "metadata": {},
   "source": [
    "# Imaging steps"
   ]
  },
  {
   "cell_type": "markdown",
   "metadata": {},
   "source": [
    "## Step 1: Input & setup"
   ]
  },
  {
   "cell_type": "code",
   "execution_count": 28,
   "metadata": {},
   "outputs": [],
   "source": [
    "import subprocess\n",
    "# import multiprocess\n",
    "import numpy as np\n",
    "from astropy.io import fits\n",
    "import matplotlib.pyplot as plt\n",
    "from scipy.optimize import curve_fit\n",
    "import os\n",
    "from tqdm import tqdm\n",
    "import warnings\n",
    "warnings.filterwarnings(\"ignore\")"
   ]
  },
  {
   "cell_type": "code",
   "execution_count": 29,
   "metadata": {},
   "outputs": [],
   "source": [
    "plt.style.use(\"default\")\n",
    "plt.rc('xtick', direction='in', top=True)\n",
    "plt.rc('ytick', direction='in', right=True)\n",
    "plt.rc('axes', linewidth=1.15)\n",
    "\n",
    "plt.rc(\"mathtext\", fontset=\"dejavuserif\")"
   ]
  },
  {
   "cell_type": "code",
   "execution_count": 30,
   "metadata": {},
   "outputs": [],
   "source": [
    "if not os.path.exists('../Data/Images'):\n",
    "    os.system('mkdir ../Data/Images')\n",
    "\n",
    "event_file = '../Data/Filtered_data/Merged/Merged_020_s05_TM0_Events.fits'"
   ]
  },
  {
   "cell_type": "markdown",
   "metadata": {},
   "source": [
    "## Creating Image and exposure map"
   ]
  },
  {
   "cell_type": "code",
   "execution_count": 31,
   "metadata": {},
   "outputs": [],
   "source": [
    "def run_evtool(input_name, output_name, emin, emax, gti_type='FLAREGTI', flag_type='0xe00fff30', pattern='15', telid='1 2 3 4 5 6 7', log_file=None):\n",
    "    subprocess.run(['evtool', \n",
    "                    f'eventfiles={input_name}', \n",
    "                    f'outfile={output_name}', \n",
    "                    f'gti={gti_type}', \n",
    "                    f'flag={flag_type}', \n",
    "                    f'pattern={pattern}', \n",
    "                    f'emin={emin}', \n",
    "                    f'emax={emax}',\n",
    "                    f'image=yes',\n",
    "                    f'events=no',\n",
    "                    f'telid={telid}'\n",
    "                    ],\n",
    "                    stdout=log_file,\n",
    "                    stderr=log_file)\n",
    "    \n",
    "def run_expmap(input_eventlist, input_image, output_name, emin, emax, log_file=None):\n",
    "    subprocess.run(['expmap', \n",
    "                    f'inputdatasets={input_eventlist}', \n",
    "                    f'templateimage={input_image}', \n",
    "                    f'mergedmaps={output_name}', \n",
    "                    f'emin={emin}', \n",
    "                    f'emax={emax}',\n",
    "                    'withvignetting=yes',\n",
    "                    'withweights=yes',\n",
    "                    ],\n",
    "                    stdout=log_file,\n",
    "                    stderr=log_file)"
   ]
  },
  {
   "cell_type": "code",
   "execution_count": 32,
   "metadata": {},
   "outputs": [],
   "source": [
    "band_min = 0.2\n",
    "band_max = 2.3\n",
    "run_evtool(event_file, f'../Data/Images/merged_image_{int(band_min*1000)}_{int(band_max*1000)}.fits', \n",
    "           band_min, band_max, log_file=open(f'../Data/Images/merged_image_{int(band_min*1000)}_{int(band_max*1000)}.log', 'w+'))\n",
    "run_expmap(event_file, f'../Data/Images/merged_image_{int(band_min*1000)}_{int(band_max*1000)}.fits', \n",
    "           f'../Data/Images/merged_expmap_{int(band_min*1000)}_{int(band_max*1000)}.fits', \n",
    "           band_min, band_max, log_file=open(f'../Data/Images/merged_expmap_{int(band_min*1000)}_{int(band_max*1000)}.log', 'w+'))"
   ]
  }
 ],
 "metadata": {
  "kernelspec": {
   "display_name": "heasoft_6.31",
   "language": "python",
   "name": "python3"
  },
  "language_info": {
   "codemirror_mode": {
    "name": "ipython",
    "version": 3
   },
   "file_extension": ".py",
   "mimetype": "text/x-python",
   "name": "python",
   "nbconvert_exporter": "python",
   "pygments_lexer": "ipython3",
   "version": "3.10.4"
  }
 },
 "nbformat": 4,
 "nbformat_minor": 2
}
